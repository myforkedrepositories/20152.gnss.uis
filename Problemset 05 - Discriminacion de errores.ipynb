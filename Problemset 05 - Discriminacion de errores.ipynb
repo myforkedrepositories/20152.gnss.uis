{
 "cells": [
  {
   "cell_type": "code",
   "execution_count": null,
   "metadata": {
    "collapsed": true
   },
   "outputs": [],
   "source": [
    "import numpy as np\n",
    "import gpstk\n",
    "import matplotlib.pyplot as plt\n",
    "from IPython.display import display, HTML \n",
    "%matplotlib inline\n",
    "\n",
    "%run code/utils.py\n",
    "\n",
    "bogtnavfile = \"data/bogt0010.15n\"\n",
    "bogtobsfile = \"data/bogt0010.15o\"\n",
    "\n",
    "alrtnavfile = \"data/alrt0010.15n\"\n",
    "alrtobsfile = \"data/alrt0010.15o\"\n",
    "\n",
    "madrnavfile = \"data/madr0010.15n\"\n",
    "madrobsfile = \"data/madr0010.15o\""
   ]
  },
  {
   "cell_type": "markdown",
   "metadata": {},
   "source": [
    "## <font style=\"color:red\"> Ejercicio 1: Grafica el error de posicionamiento horizontal vs. el error de posicionamiento vertical para la estación BOGT el 1/1/2015. Grafica también el error horizontal y el error vertical en función del tiempo y calcula el error medio vertical y el error medio horizontal.\n",
    "\n",
    "Dada la posición de un receptor $r = (r_x, r_y, r_z)$ y la posición calculada por GPS, $g = (g_x, g_y, g_z)$ en coordenadas ECEF:\n",
    "\n",
    "- obtén el error de posicionamiento $e = g - r$\n",
    "\n",
    "- obtén $s$, un vector ortogonal al vector $r$, de forma que $s_x$ y $s_y$ los obtienes aleatoriamente y $s_z=-(r_x, r_y) \\bullet (s_x, s_y) /r_z$, en donde $\\bullet$ es el producto vectorial (producto punto).\n",
    "\n",
    "- obtén $t$, un vector ortogonal a los vectores $r$ y $s$, con el producto cruzado (usa `np.cross`).\n",
    "\n",
    "- normaliza los vectores $r$, $t$ y $s$.\n",
    "\n",
    "El error vertical, $e_v$, es la proyección del vector $e$ en el vector $r$ una vez este ultimo ha sido normalizado.\n",
    "\n",
    "El error horizontal, $e_h$, es la proyección del vector $e$ en el plano definido por los vectores $s$ y $t$ normalizados.\n",
    "\n",
    "Para hallar ambos componentes:\n",
    "\n",
    "- obtén la proyección de $e$ sobre $r$: $r_{proy} = \\frac{e \\bullet r}{r\\bullet r}$\n",
    "\n",
    "- obtén de manera similar $t_{proy}$ y $s_{proy}$, las proyecciones de $e$ sobre los vectores $s$ y $t$.\n",
    "\n",
    "Finalmente:\n",
    "\n",
    "- $e_v = ||r_{proy}||$\n",
    "- $e_h = ||s_{proy} + t_{proy}||$\n",
    "\n",
    "En donde $||x||$ denota la norma euclidiana del vector $x$\n",
    "\n",
    "Referencia [aquí](http://ocw.mit.edu/courses/mathematics/18-06sc-linear-algebra-fall-2011/least-squares-determinants-and-eigenvalues/projections-onto-subspaces/MIT18_06SCF11_Ses2.2sum.pdf)"
   ]
  },
  {
   "cell_type": "code",
   "execution_count": null,
   "metadata": {
    "collapsed": true
   },
   "outputs": [],
   "source": []
  },
  {
   "cell_type": "markdown",
   "metadata": {},
   "source": [
    "## <font style=\"color:red\"> Ejercicio 2: Realiza el ejercicio 1 para la estación MADR el 1/1/2015"
   ]
  },
  {
   "cell_type": "code",
   "execution_count": null,
   "metadata": {
    "collapsed": false,
    "scrolled": false
   },
   "outputs": [],
   "source": []
  },
  {
   "cell_type": "markdown",
   "metadata": {},
   "source": [
    "## <font style=\"color:red\"> Ejercicio 3: Realiza el ejercicio 1 para la estación ALRT el 1/1/2015"
   ]
  },
  {
   "cell_type": "code",
   "execution_count": null,
   "metadata": {
    "collapsed": false
   },
   "outputs": [],
   "source": []
  },
  {
   "cell_type": "markdown",
   "metadata": {},
   "source": [
    "## <font style=\"color:red\"> Ejercicio 4: Realiza el ejercicio 1 para la estación BOGT el 1/1/2015, pero usando la corrección ionosférica con la doble frecuencia"
   ]
  },
  {
   "cell_type": "code",
   "execution_count": null,
   "metadata": {
    "collapsed": false
   },
   "outputs": [],
   "source": []
  },
  {
   "cell_type": "markdown",
   "metadata": {},
   "source": [
    "## <font style=\"color:red\"> Ejercicio 5: Realiza el ejercicio 1 para la estación MADR el 1/1/2015, pero usando la corrección ionosférica con la doble frecuencia"
   ]
  },
  {
   "cell_type": "code",
   "execution_count": null,
   "metadata": {
    "collapsed": false
   },
   "outputs": [],
   "source": []
  },
  {
   "cell_type": "markdown",
   "metadata": {
    "collapsed": true
   },
   "source": [
    "## <font style=\"color:red\"> Ejercicio 6: Realiza el ejercicio 1 para la estación ALRT el 1/1/2015, pero usando la corrección ionosférica con la doble frecuencia"
   ]
  },
  {
   "cell_type": "code",
   "execution_count": null,
   "metadata": {
    "collapsed": false
   },
   "outputs": [],
   "source": []
  },
  {
   "cell_type": "code",
   "execution_count": null,
   "metadata": {
    "collapsed": true
   },
   "outputs": [],
   "source": []
  }
 ],
 "metadata": {
  "kernelspec": {
   "display_name": "Python 2",
   "language": "python",
   "name": "python2"
  },
  "language_info": {
   "codemirror_mode": {
    "name": "ipython",
    "version": 2
   },
   "file_extension": ".py",
   "mimetype": "text/x-python",
   "name": "python",
   "nbconvert_exporter": "python",
   "pygments_lexer": "ipython2",
   "version": "2.7.10"
  }
 },
 "nbformat": 4,
 "nbformat_minor": 0
}
