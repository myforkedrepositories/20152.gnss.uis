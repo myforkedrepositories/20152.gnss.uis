{
 "cells": [
  {
   "cell_type": "code",
   "execution_count": 2,
   "metadata": {
    "collapsed": false
   },
   "outputs": [],
   "source": [
    "import numpy as np\n",
    "import gpstk\n",
    "import matplotlib.pyplot as plt\n",
    "from IPython.display import display, HTML \n",
    "%matplotlib inline\n",
    "\n",
    "bogtnavfile = \"data/bogt0010.15n\"\n",
    "bogtobsfile = \"data/bogt0010.15o\"\n",
    "\n",
    "leijnavfile = \"data/leij0010.15n\"\n",
    "leijobsfile = \"data/leij0010.15o\"\n",
    "leijmetfile = \"data/leij0010.15m\"\n",
    "\n",
    "lhaznavfile = \"data/lhaz0010.15n\"\n",
    "lhazobsfile = \"data/lhaz0010.15o\"\n",
    "lhazmetfile = \"data/lhaz0010.15m\""
   ]
  },
  {
   "cell_type": "markdown",
   "metadata": {},
   "source": [
    "## <font style=\"color:red\"> Ejercicio 1: Calcula el retraso ionosférico la estación BOGT 1/1/2015 y grafica:\n",
    "\n",
    "- El error de posicionamiento en cada observación y el error medio de dicho posicionamiento (el mismo que en los problem sets anteriores)\n",
    "- El retraso ionosférico  (__ionospheric delay__) obtenido usando los pseudorangos observados en las frecuencias L1 y L2 para cada satélite de cada observación. \n",
    "- El error de posicionamiento en cada observación pero corrigiendo el pseudorango con el retraso ionosférico calculado, incluye también el error medio de dicho posicionamiento **USA SOLO RETRASOS IONOSFÉRICOS CUANDO SON MENORES DE 60 METROS**, ignorando el resto\n",
    "\n",
    "El retraso ionosférico viene dado por:\n",
    "\n",
    "$$I_d = \\frac{1}{(1-\\gamma)(\\rho_1-\\rho_2)}$$\n",
    "\n",
    "donde:\n",
    "\n",
    "- $\\gamma$ la obtienes con la constante `gpstk.GAMMA_GPS`\n",
    "- $\\rho_1$ y $\\rho_2$ son los pseudurangos observados en ambas frecuencias\n",
    "\n",
    "Con esto, usas el siguiente pseudorango corregido:\n",
    "\n",
    "$$\\rho_{corregido} = \\rho_1 - I_d$$"
   ]
  },
  {
   "cell_type": "code",
   "execution_count": null,
   "metadata": {
    "collapsed": false
   },
   "outputs": [],
   "source": []
  },
  {
   "cell_type": "markdown",
   "metadata": {},
   "source": [
    "## <font style=\"color:red\"> Ejercicio 2: Realiza el ejercicio 1 para la estación LEIJ 1/1/2015:\n"
   ]
  },
  {
   "cell_type": "code",
   "execution_count": null,
   "metadata": {
    "collapsed": false,
    "scrolled": false
   },
   "outputs": [],
   "source": []
  },
  {
   "cell_type": "markdown",
   "metadata": {},
   "source": [
    "## <font style=\"color:red\"> Ejercicio 3: Usa el modelo troposférico según se ilustra [aquí](http://www.gpstk.org/pythondoc/examples.html#example-4), para mejorar el posicionamiento con UNA frecuencia en la estación LEIJ 1/1/2015"
   ]
  },
  {
   "cell_type": "code",
   "execution_count": null,
   "metadata": {
    "collapsed": false,
    "scrolled": false
   },
   "outputs": [],
   "source": []
  },
  {
   "cell_type": "markdown",
   "metadata": {},
   "source": [
    "## <font style=\"color:red\"> Ejercicio 4: Usa ahora el modelo troposférico como en el ejercicio anterior JUNTO con la eliminación del retraso ionosférico usando doble frecuencia para la estación LEIJ 1/1/2015"
   ]
  },
  {
   "cell_type": "code",
   "execution_count": null,
   "metadata": {
    "collapsed": false,
    "scrolled": false
   },
   "outputs": [],
   "source": []
  },
  {
   "cell_type": "markdown",
   "metadata": {},
   "source": [
    "## <font style=\"color:red\"> Ejercicio 5: Grafica el error de posicionamiento por observación usando únicamente la frecuencia L1 la estación la estación LHAZ 1/1/2015\n"
   ]
  },
  {
   "cell_type": "code",
   "execution_count": null,
   "metadata": {
    "collapsed": false,
    "scrolled": false
   },
   "outputs": [],
   "source": []
  },
  {
   "cell_type": "markdown",
   "metadata": {},
   "source": [
    "## <font style=\"color:red\"> Ejercicio 6: Grafica el error de posicionamiento por observación usando doble frecuencia para la estación la estación LHAZ 1/1/2015"
   ]
  },
  {
   "cell_type": "code",
   "execution_count": null,
   "metadata": {
    "collapsed": false
   },
   "outputs": [],
   "source": []
  },
  {
   "cell_type": "markdown",
   "metadata": {},
   "source": [
    "## <font style=\"color:red\"> Ejercicio 7: Haz el ejercicio 3 para la estación la estación LHAZ 1/1/2015"
   ]
  },
  {
   "cell_type": "code",
   "execution_count": null,
   "metadata": {
    "collapsed": false,
    "scrolled": true
   },
   "outputs": [],
   "source": []
  },
  {
   "cell_type": "markdown",
   "metadata": {},
   "source": [
    "## <font style=\"color:red\"> Ejercicio 8: Haz el ejercicio 4 para la estación la estación LHAZ 1/1/2015"
   ]
  },
  {
   "cell_type": "code",
   "execution_count": null,
   "metadata": {
    "collapsed": false,
    "scrolled": false
   },
   "outputs": [],
   "source": []
  }
 ],
 "metadata": {
  "kernelspec": {
   "display_name": "Python 2",
   "language": "python",
   "name": "python2"
  },
  "language_info": {
   "codemirror_mode": {
    "name": "ipython",
    "version": 2
   },
   "file_extension": ".py",
   "mimetype": "text/x-python",
   "name": "python",
   "nbconvert_exporter": "python",
   "pygments_lexer": "ipython2",
   "version": "2.7.10"
  }
 },
 "nbformat": 4,
 "nbformat_minor": 0
}
