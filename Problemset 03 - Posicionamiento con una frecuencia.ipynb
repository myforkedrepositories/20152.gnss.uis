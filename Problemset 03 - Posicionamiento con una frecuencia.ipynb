{
 "cells": [
  {
   "cell_type": "code",
   "execution_count": 1,
   "metadata": {
    "collapsed": false
   },
   "outputs": [],
   "source": [
    "import numpy as np\n",
    "import gpstk\n",
    "import matplotlib.pyplot as plt\n",
    "from IPython.display import display, HTML \n",
    "%matplotlib inline"
   ]
  },
  {
   "cell_type": "code",
   "execution_count": 2,
   "metadata": {
    "collapsed": true
   },
   "outputs": [],
   "source": [
    "bogtnavfile = \"data/bogt0010.15n\"\n",
    "bogtobsfile = \"data/bogt0010.15o\"\n",
    "\n",
    "alrtnavfile = \"data/alrt0010.15n\"\n",
    "alrtobsfile = \"data/alrt0010.15o\"\n",
    "\n",
    "madrnavfile = \"data/madr0010.15n\"\n",
    "madrobsfile = \"data/madr0010.15o\""
   ]
  },
  {
   "cell_type": "code",
   "execution_count": 3,
   "metadata": {
    "collapsed": false
   },
   "outputs": [
    {
     "name": "stdout",
     "output_type": "stream",
     "text": [
      "receiver position X=4849202.394000, Y=-360328.992900, Z=4114913.186200\n",
      "['L1' 'L2' 'L5' 'C1' 'P1' 'P2' 'C5' 'S1' 'S2' 'S5']\n",
      "['L1' 'L2' 'L5' 'C1' 'P1' 'P2' 'C5' 'S1' 'S2' 'S5']\n",
      "P1_index = 4\n",
      "P2_index = 5\n",
      "L1_index = 0\n",
      "L2_index = 1\n"
     ]
    }
   ],
   "source": [
    "obsHeader, obsData = gpstk.readRinex3Obs(madrobsfile)\n",
    "\n",
    "rec_pos = np.array([obsHeader.antennaPosition[0], obsHeader.antennaPosition[1], obsHeader.antennaPosition[2]])\n",
    "print \"receiver position X=%f, Y=%f, Z=%f\"%(rec_pos[0], rec_pos[1], rec_pos[2])\n",
    "\n",
    "obs_types = np.array([i for i in obsHeader.R2ObsTypes])\n",
    "print obs_types\n",
    "P1_idx = np.where(obs_types==\"P1\")[0][0]\n",
    "P2_idx = np.where(obs_types==\"P2\")[0][0]\n",
    "L1_idx = np.where(obs_types==\"L1\")[0][0]\n",
    "L2_idx = np.where(obs_types==\"L2\")[0][0]\n",
    "print obs_types\n",
    "print \"P1_index =\", P1_idx\n",
    "print \"P2_index =\", P2_idx\n",
    "print \"L1_index =\", L1_idx\n",
    "print \"L2_index =\", L2_idx\n",
    "\n",
    "obsData.close()"
   ]
  },
  {
   "cell_type": "markdown",
   "metadata": {},
   "source": [
    "## <font style=\"color:red\"> Ejercicio 1: Grafica el error de posicionamiento y el número de satélites de cada observación, en función del tiempo, para la estación BOGT el 1/1/2015\n",
    "\n",
    "cuenta el total de observaciones que para las que calulaste la posición y muestra también el promedio y desviación estandar del error de posicionamiento"
   ]
  },
  {
   "cell_type": "code",
   "execution_count": null,
   "metadata": {
    "collapsed": true
   },
   "outputs": [],
   "source": []
  },
  {
   "cell_type": "markdown",
   "metadata": {},
   "source": [
    "## <font style=\"color:red\"> Ejercicio 2: Realiza el ejercicio 1, para la estación MADR el 1/1/2015"
   ]
  },
  {
   "cell_type": "code",
   "execution_count": null,
   "metadata": {
    "collapsed": false
   },
   "outputs": [],
   "source": []
  },
  {
   "cell_type": "markdown",
   "metadata": {},
   "source": [
    "## <font style=\"color:red\"> Ejercicio 3: Realiza el ejercicio 1 para la estación ALRT el 1/1/2015"
   ]
  },
  {
   "cell_type": "code",
   "execution_count": null,
   "metadata": {
    "collapsed": false,
    "scrolled": true
   },
   "outputs": [],
   "source": []
  },
  {
   "cell_type": "markdown",
   "metadata": {},
   "source": [
    "## <font style=\"color:red\"> Ejercicio 4: Calcula la posición en cada observación usando ahora únicamente los cuatro primero satélites disponibles en cada observación.\n",
    "\n",
    "Obtén el promedio y desviación estandar del error de posicionamiento y grafícalo, en función del tiempo, junto con el promedio de elevación de los cuatros satélites con los que en cada observación se calcula la posición. Hazlo para la estación BOGT el 1/1/2015\n",
    "\n",
    "cuenta el total de observaciones que para las que calulaste la posición y muestra también el promedio y desviación estandar del error de posicionamiento"
   ]
  },
  {
   "cell_type": "code",
   "execution_count": null,
   "metadata": {
    "collapsed": false
   },
   "outputs": [],
   "source": []
  },
  {
   "cell_type": "markdown",
   "metadata": {},
   "source": [
    "## <font style=\"color:red\"> Ejercicio 5: Realiza el ejercicio 4 para la estación MADR el 1/1/2015"
   ]
  },
  {
   "cell_type": "code",
   "execution_count": null,
   "metadata": {
    "collapsed": false
   },
   "outputs": [],
   "source": []
  },
  {
   "cell_type": "markdown",
   "metadata": {},
   "source": [
    "## <font style=\"color:red\"> Ejercicio 6: Realiza el ejercicio 4 para la estación ALRT el 1/1/2015"
   ]
  },
  {
   "cell_type": "code",
   "execution_count": null,
   "metadata": {
    "collapsed": false,
    "scrolled": true
   },
   "outputs": [],
   "source": []
  },
  {
   "cell_type": "markdown",
   "metadata": {},
   "source": [
    "## <font style=\"color:red\"> Ejercicio 7: Calcula la posición en cada observación usando ahora únicamente los satélites que tengan más de 30 grados de elevación para la estación BOGT el 1/1/2015.\n",
    "\n",
    "Grafica el error de posicionamiento y el número de satélites usados, en función del tiempo\n",
    "\n",
    "Cuenta el total de observaciones que para las que calulaste la posición y muestra el porcentaje de observaciones para las que no tenías al menos 4 satélites en vista al filtrarlos por la elevación.\n",
    "\n",
    "Muestra también el promedio y desviación estandar del error de posicionamiento.\n"
   ]
  },
  {
   "cell_type": "code",
   "execution_count": null,
   "metadata": {
    "collapsed": false
   },
   "outputs": [],
   "source": []
  },
  {
   "cell_type": "markdown",
   "metadata": {},
   "source": [
    "## <font style=\"color:red\"> Ejercicio 8: Realiza el ejercicio 7 para la estación MADR el 1/1/2015"
   ]
  },
  {
   "cell_type": "code",
   "execution_count": null,
   "metadata": {
    "collapsed": false
   },
   "outputs": [],
   "source": []
  },
  {
   "cell_type": "markdown",
   "metadata": {},
   "source": [
    "## <font style=\"color:red\"> Ejercicio 9: Realiza el ejercicio 7 para la estación ALRT el 1/1/2015"
   ]
  },
  {
   "cell_type": "code",
   "execution_count": null,
   "metadata": {
    "collapsed": false
   },
   "outputs": [],
   "source": []
  },
  {
   "cell_type": "markdown",
   "metadata": {},
   "source": [
    "## <font style=\"color:red\"> Ejercicio 10: Interpreta los resultados obtenidos.\n",
    "\n",
    "- ¿Por qué el error medio en el posicionamiento cambia en cada caso?\n",
    "\n",
    "- Menciona dos casos de aplicación que podrían ser representativos de cada uno de los ejercicios"
   ]
  },
  {
   "cell_type": "code",
   "execution_count": null,
   "metadata": {
    "collapsed": true
   },
   "outputs": [],
   "source": []
  }
 ],
 "metadata": {
  "kernelspec": {
   "display_name": "Python 2",
   "language": "python",
   "name": "python2"
  },
  "language_info": {
   "codemirror_mode": {
    "name": "ipython",
    "version": 2
   },
   "file_extension": ".py",
   "mimetype": "text/x-python",
   "name": "python",
   "nbconvert_exporter": "python",
   "pygments_lexer": "ipython2",
   "version": "2.7.10"
  }
 },
 "nbformat": 4,
 "nbformat_minor": 0
}
