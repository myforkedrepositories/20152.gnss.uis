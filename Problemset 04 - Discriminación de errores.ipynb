{
 "cells": [
  {
   "cell_type": "code",
   "execution_count": 2,
   "metadata": {
    "collapsed": true
   },
   "outputs": [],
   "source": [
    "import numpy as np\n",
    "import gpstk\n",
    "import matplotlib.pyplot as plt\n",
    "from IPython.display import display, HTML \n",
    "%matplotlib inline\n",
    "\n",
    "bogtnavfile = \"data/bogt0010.15n\"\n",
    "bogtobsfile = \"data/bogt0010.15o\"\n",
    "\n",
    "alrtnavfile = \"data/alrt0010.15n\"\n",
    "alrtobsfile = \"data/alrt0010.15o\"\n",
    "\n",
    "madrnavfile = \"data/madr0010.15n\"\n",
    "madrobsfile = \"data/madr0010.15o\""
   ]
  },
  {
   "cell_type": "markdown",
   "metadata": {},
   "source": [
    "## <font style=\"color:red\"> Ejercicio 1: Grafica el error de posicionamiento horizontal vs. el error de posicionamiento vertical para la estación BOGT el 1/1/2015. Grafica también el error horizontal y el error vertical en función del tiempo y calcula el error medio vertical y el error medio horizontal.\n",
    "\n",
    "Dada la posición de un receptor $r = (r_x, r_y, r_z)$ y la posición calculada por GPS, $g = (g_x, g_y, g_z)$ en coordenadas ECEF:\n",
    "\n",
    "- Obtén un vector aleatorio $v=(v_x,v_y,v_z)$ en el plano ortogonal al vector de posición $r$ de la siguiente manera: obtén aleatoriamente $v_x$ e $v_y$ y calcula $v_z=-(r_x v_x+r_y v_y)/r_z$\n",
    "\n",
    "- Obtén el vector de error en el posicionamiento $e = p - r$\n",
    "\n",
    "- Obtén la proyección horizontal , $e_h$,  del vector de error en el plano ortogonal a $r$ de la siguiente manera $e_h = v_u \\frac{e\\bullet v_u}{v_u \\bullet v_u}$, donde $v_u$ es el vector unitario en la dirección de $v$\n",
    "\n",
    "- Obtén la proyección vertical , $e_v$, del vector de error sobre $r$ de la siguiente manera: $e_v = r \\frac{e\\bullet r}{r \\bullet r}$\n",
    "\n",
    "Las magnitudes de los vectores $e_h$ y $e_v$ son las components horizontal y vertical del error de posicionamiento respectivamente\n",
    "\n",
    "\n",
    "Referencia [aquí](http://ocw.mit.edu/courses/mathematics/18-06sc-linear-algebra-fall-2011/least-squares-determinants-and-eigenvalues/projections-onto-subspaces/MIT18_06SCF11_Ses2.2sum.pdf)"
   ]
  },
  {
   "cell_type": "code",
   "execution_count": null,
   "metadata": {
    "collapsed": false,
    "scrolled": false
   },
   "outputs": [],
   "source": []
  },
  {
   "cell_type": "markdown",
   "metadata": {},
   "source": [
    "## <font style=\"color:red\"> Ejercicio 2: Realiza el ejercicio 1 para la estación MADR el 1/1/2015"
   ]
  },
  {
   "cell_type": "code",
   "execution_count": null,
   "metadata": {
    "collapsed": false,
    "scrolled": false
   },
   "outputs": [],
   "source": []
  },
  {
   "cell_type": "markdown",
   "metadata": {},
   "source": [
    "## <font style=\"color:red\"> Ejercicio 3: Realiza el ejercicio 1 para la estación ALRT el 1/1/2015"
   ]
  },
  {
   "cell_type": "code",
   "execution_count": null,
   "metadata": {
    "collapsed": false
   },
   "outputs": [],
   "source": []
  },
  {
   "cell_type": "markdown",
   "metadata": {},
   "source": [
    "## <font style=\"color:red\"> Ejercicio 4: Realiza el ejercicio 1 para la estación BOGT el 1/1/2015, pero usando la corrección ionosférica con la doble frecuencia"
   ]
  },
  {
   "cell_type": "code",
   "execution_count": null,
   "metadata": {
    "collapsed": false
   },
   "outputs": [],
   "source": []
  },
  {
   "cell_type": "markdown",
   "metadata": {},
   "source": [
    "## <font style=\"color:red\"> Ejercicio 5: Realiza el ejercicio 1 para la estación MADR el 1/1/2015, pero usando la corrección ionosférica con la doble frecuencia"
   ]
  },
  {
   "cell_type": "code",
   "execution_count": null,
   "metadata": {
    "collapsed": false
   },
   "outputs": [],
   "source": []
  },
  {
   "cell_type": "markdown",
   "metadata": {
    "collapsed": true
   },
   "source": [
    "## <font style=\"color:red\"> Ejercicio 6: Realiza el ejercicio 1 para la estación ALRT el 1/1/2015, pero usando la corrección ionosférica con la doble frecuencia"
   ]
  },
  {
   "cell_type": "code",
   "execution_count": null,
   "metadata": {
    "collapsed": false
   },
   "outputs": [],
   "source": []
  }
 ],
 "metadata": {
  "kernelspec": {
   "display_name": "Python 2",
   "language": "python",
   "name": "python2"
  },
  "language_info": {
   "codemirror_mode": {
    "name": "ipython",
    "version": 2
   },
   "file_extension": ".py",
   "mimetype": "text/x-python",
   "name": "python",
   "nbconvert_exporter": "python",
   "pygments_lexer": "ipython2",
   "version": "2.7.10"
  }
 },
 "nbformat": 4,
 "nbformat_minor": 0
}
