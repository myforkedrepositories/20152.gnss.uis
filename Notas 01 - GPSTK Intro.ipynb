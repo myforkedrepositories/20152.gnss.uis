{
 "cells": [
  {
   "cell_type": "code",
   "execution_count": 3,
   "metadata": {
    "collapsed": false
   },
   "outputs": [
    {
     "name": "stdout",
     "output_type": "stream",
     "text": [
      "\n"
     ]
    }
   ],
   "source": [
    "import numpy as np\n",
    "import gpstk\n",
    "from skimage import io\n",
    "import matplotlib.pyplot as plt\n",
    "%matplotlib inline"
   ]
  },
  {
   "cell_type": "markdown",
   "metadata": {},
   "source": [
    "## Inspect RINEX files\n"
   ]
  },
  {
   "cell_type": "code",
   "execution_count": 4,
   "metadata": {
    "collapsed": true
   },
   "outputs": [],
   "source": [
    "navfile = \"data/bogt0010.15n\"\n",
    "obsfile = \"data/bogt0010.15o\""
   ]
  },
  {
   "cell_type": "code",
   "execution_count": 5,
   "metadata": {
    "collapsed": false
   },
   "outputs": [
    {
     "name": "stdout",
     "output_type": "stream",
     "text": [
      "     2.11           OBSERVATION DATA    G (GPS)             RINEX VERSION / TYPE\r\n",
      "teqc  2013Mar15     gpsops              20150102 00:12:09UTCPGM / RUN BY / DATE\r\n",
      "Linux 2.4.21-27.ELsmp|Opteron|gcc -static|Linux x86_64|=+   COMMENT\r\n",
      "BIT 2 OF LLI FLAGS DATA COLLECTED UNDER A/S CONDITION       COMMENT\r\n",
      "BOGT                                                        MARKER NAME\r\n",
      "41901M001                                                   MARKER NUMBER\r\n",
      "GGN                 JPL                                     OBSERVER / AGENCY\r\n",
      "UC120031609         ASHTECH UZ-12       CQ00                REC # / TYPE / VERS\r\n",
      "CR620024311         ASH701945E_M    NONE                    ANT # / TYPE\r\n",
      "  1744399.0397 -6116037.5577   512731.7532                  APPROX POSITION XYZ\r\n",
      "        0.0610        0.0000        0.0000                  ANTENNA: DELTA H/E/N\r\n",
      "     1     1                                                WAVELENGTH FACT L1/2\r\n",
      "     7    L1    L2    P1    P2    C1    S1    S2            # / TYPES OF OBSERV\r\n",
      "    30.0000                                                 INTERVAL\r\n",
      "                                                            COMMENT\r\n",
      "This data is provided as a public service by NASA/JPL.      COMMENT\r\n",
      "No warranty is expressed or implied regarding suitability   COMMENT\r\n",
      "for use.  For further information, contact:                 COMMENT\r\n",
      "Dave Stowers, NASA/JPL m/s 238-600                          COMMENT\r\n",
      "4800 Oak Grove Drive, Pasadena CA 91109 USA                 COMMENT\r\n",
      "                                                            COMMENT\r\n",
      "Forced Modulo Decimation to 30 seconds                      COMMENT\r\n",
      " SNR is mapped to RINEX snr flag value [0-9]                COMMENT\r\n",
      "  L1 & L2: min(max(int(snr_dBHz/6), 0), 9)                  COMMENT\r\n",
      "pseudorange smoothing corrections not applied               COMMENT\r\n",
      "  2015     1     1     0     0    0.0000000     GPS         TIME OF FIRST OBS\r\n",
      "                                                            END OF HEADER\r\n",
      " 15  1  1  0  0  0.0000000  0  9G18G04G27G22G31G16G08G14G32\r\n",
      "  -5746582.28047  -4354531.06146  23607290.9034   23607302.0224   23607293.108\r\n",
      "        43.0004         39.0004\r\n",
      "  -1474196.67747  -1141581.99246  24540601.1894   24540612.6744   24540601.524\r\n",
      "        42.0004         38.0004\r\n",
      "  -2488474.16347  -1890354.39846  23961100.8964   23961117.4724   23961100.378\r\n",
      "        45.0004         40.0004\r\n",
      " -18857743.88649 -14640970.08248  20977722.6224   20977729.8094   20977723.470\r\n",
      "        54.0004         49.0004\r\n",
      "  -7299012.84548  -5627961.85747  22862051.2444   22862056.2364   22862050.606\r\n",
      "        49.0004         44.0004\r\n",
      " -18225312.24349 -14128267.11248  21103280.3254   21103287.7144   21103280.029\r\n",
      "        54.0004         49.0004\r\n",
      "  -4577672.02947  -3558893.96746  23211940.1084   23211948.3884   23211939.977\r\n",
      "        44.0004         39.0004\r\n",
      " -10471548.98948  -8114971.63047  22032821.8304   22032830.2644   22032822.305\r\n",
      "        50.0004         46.0004\r\n",
      " -12092944.73948  -9374770.81147  22317814.8904   22317822.6604   22317815.056\r\n",
      "        51.0004         47.0004\r\n",
      " 15  1  1  0  0 30.0000000  0  9G18G04G27G22G31G16G08G14G32\r\n",
      "  -5640478.78447  -4271852.61746  23627484.9774   23627491.8714   23627482.897\r\n",
      "        43.0004         38.0004\r\n",
      "  -1461374.22847  -1131590.50846  24543041.8364   24543049.9514   24543041.116\r\n",
      "        42.0004         37.0004\r\n",
      "  -2562770.42447  -1948247.44346  23946960.5304   23946978.4144   23946959.985\r\n",
      "        45.0004         40.0004\r\n",
      " -18788663.27549 -14587141.25148  20990868.1244   20990876.0224   20990869.130\r\n",
      "        54.0004         49.0004\r\n",
      "  -7255319.14648  -5593914.78547  22870365.8054   22870369.4634   22870365.552\r\n",
      "        49.0004         44.0004\r\n",
      " -18290363.23649 -14178956.11948  21090901.5524   21090909.5744   21090901.858\r\n",
      "        54.0004         49.0004\r\n",
      "  -4566220.21047  -3549970.46446  23214120.8424   23214129.0794   23214119.981\r\n",
      "        43.0004         39.0004\r\n",
      " -10496449.92948  -8134375.03947  22028083.9274   22028091.4334   22028084.098\r\n",
      "        50.0004         46.0004\r\n",
      " -12158050.74148  -9425502.74247  22305425.8434   22305433.6124   22305426.587\r\n",
      "        51.0004         46.0004\r\n"
     ]
    }
   ],
   "source": [
    "!head -65 $obsfile"
   ]
  },
  {
   "cell_type": "code",
   "execution_count": 6,
   "metadata": {
    "collapsed": false
   },
   "outputs": [
    {
     "name": "stdout",
     "output_type": "stream",
     "text": [
      "     2.10           N: GPS NAV DATA                         RINEX VERSION / TYPE\r\n",
      "teqc  2013Mar15     gpsops              20150102 00:12:09UTCPGM / RUN BY / DATE\r\n",
      "Linux 2.4.21-27.ELsmp|Opteron|gcc -static|Linux x86_64|=+   COMMENT\r\n",
      "BOGT                                    MARKER NAME         COMMENT\r\n",
      "41901M001                               MARKER NUMBER       COMMENT\r\n",
      "1744399.0397 -6116037.5577 512731.7532                      COMMENT\r\n",
      "                                                            COMMENT\r\n",
      "This data is provided as a public service by NASA/JPL.      COMMENT\r\n",
      "No warranty is expressed or implied regarding suitability   COMMENT\r\n",
      "for use.  For further information, contact:                 COMMENT\r\n",
      "Dave Stowers, NASA/JPL m/s 238-600                          COMMENT\r\n",
      "4800 Oak Grove Drive, Pasadena CA 91109 USA                 COMMENT\r\n",
      "                                                            END OF HEADER\r\n",
      " 4 15  1  1  0  0  0.0-5.005393177271D-06-4.547473508865D-13 0.000000000000D+00\r\n",
      "    2.600000000000D+01 6.468750000000D+00 5.195216401616D-09 2.360577618047D+00\r\n",
      "    2.197921276093D-07 1.097048912197D-02 5.984678864479D-06 5.153734283447D+03\r\n",
      "    3.456000000000D+05 4.656612873077D-08 6.841143482686D-01-1.993030309677D-07\r\n",
      "    9.392545027373D-01 2.514375000000D+02 1.049672340941D+00-8.229271353612D-09\r\n",
      "    3.532289991199D-10 0.000000000000D+00 1.825000000000D+03 0.000000000000D+00\r\n",
      "    2.000000000000D+00 0.000000000000D+00-6.519258022308D-09 2.600000000000D+01\r\n",
      "    3.455700000000D+05 4.000000000000D+00\r\n",
      " 8 15  1  1  0  0  0.0 1.694355159998D-05 1.136868377216D-13 0.000000000000D+00\r\n",
      "    7.000000000000D+01 4.075000000000D+01 3.948735909272D-09-3.125470187464D+00\r\n",
      "    1.931563019753D-06 1.476690254640D-02 2.108514308929D-06 5.152199823380D+03\r\n",
      "    3.456000000000D+05-1.937150955200D-07-2.315858035160D+00-1.396983861923D-07\r\n",
      "    9.952424549745D-01 3.563437500000D+02-2.676413927634D+00-7.885328455581D-09\r\n",
      "   -4.643050544549D-12 0.000000000000D+00 1.825000000000D+03 0.000000000000D+00\r\n",
      "    2.800000000000D+00 6.300000000000D+01-4.656612873077D-09 7.000000000000D+01\r\n",
      "    3.455700000000D+05 4.000000000000D+00\r\n"
     ]
    }
   ],
   "source": [
    "!head -29 $navfile"
   ]
  },
  {
   "cell_type": "markdown",
   "metadata": {},
   "source": [
    "## Read navigation and observation files"
   ]
  },
  {
   "cell_type": "code",
   "execution_count": 7,
   "metadata": {
    "collapsed": true
   },
   "outputs": [],
   "source": [
    "navHeader, navData = gpstk.readRinex3Nav(navfile)\n",
    "obsHeader, obsData = gpstk.readRinex3Obs(obsfile)"
   ]
  },
  {
   "cell_type": "markdown",
   "metadata": {},
   "source": [
    "## Inspect headers, observations and ephemeris"
   ]
  },
  {
   "cell_type": "code",
   "execution_count": 8,
   "metadata": {
    "collapsed": false
   },
   "outputs": [
    {
     "name": "stdout",
     "output_type": "stream",
     "text": [
      "---------------------------------- REQUIRED ----------------------------------\n",
      "Rinex Version  2.11,  File type OBSERVATION DATA,  System G (GPS).\n",
      "Prgm: teqc  2013Mar15,  Run: 20150102 00:12:09UTC,  By: gpsops\n",
      "Marker type: .\n",
      "Observer : GGN,  Agency: JPL\n",
      "Rec#: UC120031609,  Type: ASHTECH UZ-12,  Vers: CQ00\n",
      "Antenna # : CR620024311,  Type : ASH701945E_M    NONE\n",
      "Position      (XYZ,m) : (1744399.0397, -6116037.5577, 512731.7532).\n",
      "Antenna Delta (HEN,m) : (0.0610, 0.0000, 0.0000).\n",
      "GPS Observation types (7):\n",
      " Type #01 (L1C) L1 GPSC/A phase\n",
      " Type #02 (L2X) L2 GPSC2L+M phase\n",
      " Type #03 (C1P) L1 GPSP pseudorange\n",
      " Type #04 (C2W) L2 GPScodelessZ pseudorange\n",
      " Type #05 (C1C) L1 GPSC/A pseudorange\n",
      " Type #06 (S1C) L1 GPSC/A snr\n",
      " Type #07 (S2X) L2 GPSC2L+M snr\n",
      "Time of first obs 2015/01/01 00:00:00.000 GPS\n",
      "(This header is VALID)\n",
      "---------------------------------- OPTIONAL ----------------------------------\n",
      "Marker number : 41901M001\n",
      "Signal Strenth Unit = \n",
      "Interval =  30.000\n",
      "Wavelength factor L1: 1 L2: 1\n",
      "Comments (13) :\n",
      "Linux 2.4.21-27.ELsmp|Opteron|gcc -static|Linux x86_64|=+\n",
      "BIT 2 OF LLI FLAGS DATA COLLECTED UNDER A/S CONDITION\n",
      "\n",
      "This data is provided as a public service by NASA/JPL.\n",
      "No warranty is expressed or implied regarding suitability\n",
      "for use.  For further information, contact:\n",
      "Dave Stowers, NASA/JPL m/s 238-600\n",
      "4800 Oak Grove Drive, Pasadena CA 91109 USA\n",
      "\n",
      "Forced Modulo Decimation to 30 seconds\n",
      "SNR is mapped to RINEX snr flag value [0-9]\n",
      "L1 & L2: min(max(int(snr_dBHz/6), 0), 9)\n",
      "pseudorange smoothing corrections not applied\n",
      "-------------------------------- END OF HEADER --------------------------------\n",
      "\n"
     ]
    }
   ],
   "source": [
    "print obsHeader"
   ]
  },
  {
   "cell_type": "code",
   "execution_count": 9,
   "metadata": {
    "collapsed": false
   },
   "outputs": [
    {
     "name": "stdout",
     "output_type": "stream",
     "text": [
      "Dump of Rinex3ObsData\n",
      " - time:  2015 01 01 00 00  0.0000000 epochFlag:  0 numSVs: 9 clk offset: 0.000000000\n",
      " G04: -1474196.677/4/7 -1141581.992/4/6 24540601.189/4/0 24540612.674/4/0 24540601.524/0/0       42.000/4/0       38.000/4/0\n",
      " G08: -4577672.029/4/7 -3558893.967/4/6 23211940.108/4/0 23211948.388/4/0 23211939.977/0/0       44.000/4/0       39.000/4/0\n",
      " G14: -10471548.989/4/8 -8114971.630/4/7 22032821.830/4/0 22032830.264/4/0 22032822.305/0/0       50.000/4/0       46.000/4/0\n",
      " G16: -18225312.243/4/9 -14128267.112/4/8 21103280.325/4/0 21103287.714/4/0 21103280.029/0/0       54.000/4/0       49.000/4/0\n",
      " G18: -5746582.280/4/7 -4354531.061/4/6 23607290.903/4/0 23607302.022/4/0 23607293.108/0/0       43.000/4/0       39.000/4/0\n",
      " G22: -18857743.886/4/9 -14640970.082/4/8 20977722.622/4/0 20977729.809/4/0 20977723.470/0/0       54.000/4/0       49.000/4/0\n",
      " G27: -2488474.163/4/7 -1890354.398/4/6 23961100.896/4/0 23961117.472/4/0 23961100.378/0/0       45.000/4/0       40.000/4/0\n",
      " G31: -7299012.845/4/8 -5627961.857/4/7 22862051.244/4/0 22862056.236/4/0 22862050.606/0/0       49.000/4/0       44.000/4/0\n",
      " G32: -12092944.739/4/8 -9374770.811/4/7 22317814.890/4/0 22317822.660/4/0 22317815.056/0/0       51.000/4/0       47.000/4/0\n",
      "\n"
     ]
    }
   ],
   "source": [
    "obsObject = obsData.next()\n",
    "print obsObject"
   ]
  },
  {
   "cell_type": "code",
   "execution_count": 10,
   "metadata": {
    "collapsed": false
   },
   "outputs": [
    {
     "name": "stdout",
     "output_type": "stream",
     "text": [
      "---------------------------------- REQUIRED ----------------------------------\n",
      "Rinex Version  2.10,  File type NAVIGATION, System G: (GPS).\n",
      "Prgm: teqc  2013Mar15,  Run: 20150102 00:12:09UTC,  By: gpsops\n",
      "(This header is VALID RINEX version 2).\n",
      "---------------------------------- OPTIONAL ----------------------------------\n",
      " Leap seconds is NOT valid\n",
      "Comments (10) :\n",
      "Linux 2.4.21-27.ELsmp|Opteron|gcc -static|Linux x86_64|=+\n",
      "BOGT                                    MARKER NAME\n",
      "41901M001                               MARKER NUMBER\n",
      "1744399.0397 -6116037.5577 512731.7532\n",
      "\n",
      "This data is provided as a public service by NASA/JPL.\n",
      "No warranty is expressed or implied regarding suitability\n",
      "for use.  For further information, contact:\n",
      "Dave Stowers, NASA/JPL m/s 238-600\n",
      "4800 Oak Grove Drive, Pasadena CA 91109 USA\n",
      "-------------------------------- END OF HEADER -------------------------------\n",
      "\n"
     ]
    }
   ],
   "source": [
    "print navHeader"
   ]
  },
  {
   "cell_type": "code",
   "execution_count": 11,
   "metadata": {
    "collapsed": false
   },
   "outputs": [
    {
     "name": "stdout",
     "output_type": "stream",
     "text": [
      "****************************************************************************\n",
      "Broadcast Orbit Ephemeris of class GPSEphemeris\n",
      "Satellite: GPS 04 SVN 34\n",
      "           TIMES OF INTEREST\n",
      "              Week( mod)     SOW     DOW   UTD     SOD   MM/DD/YYYY   HH:MM:SS SYS\n",
      "Begin Valid:  1825( 801)  338400   Wed-3   365   79200   12/31/2014   22:00:00 GPS\n",
      "Clock Epoch:  1825( 801)  345600   Thu-4     1       0   01/01/2015   00:00:00 GPS\n",
      "Eph Epoch:    1825( 801)  345600   Thu-4     1       0   01/01/2015   00:00:00 GPS\n",
      "End Valid:    1825( 801)  352800   Thu-4     1    7200   01/01/2015   02:00:00 GPS\n",
      "           CLOCK PARAMETERS\n",
      "Bias T0:      -5.00539318e-06 sec\n",
      "Drift:        -4.54747351e-13 sec/sec\n",
      "Drift rate:    0.00000000e+00 sec/(sec**2)\n",
      "           ORBIT PARAMETERS\n",
      "Semi-major axis:         2.65609771e+07 m\n",
      "Motion correction:       5.19521640e-09 rad/sec\n",
      "Eccentricity:            1.09704891e-02\n",
      "Arg of perigee:          1.04967234e+00 rad\n",
      "Mean anomaly at epoch:   2.36057762e+00 rad\n",
      "Right ascension:         6.84114348e-01 rad     -8.22927135e-09 rad/sec\n",
      "Inclination:             9.39254503e-01 rad      3.53228999e-10 rad/sec\n",
      "           HARMONIC CORRECTIONS\n",
      "Radial        Sine:   6.46875000e+00 m    Cosine:   2.51437500e+02 m\n",
      "Inclination   Sine:  -1.99303031e-07 rad  Cosine:   4.65661287e-08 rad\n",
      "In-track      Sine:   5.98467886e-06 rad  Cosine:   2.19792128e-07 rad\n",
      "           GPS-SPECIFIC PARAMETERS\n",
      "Tgd (L1/L2) :  -6.51925802e-09 meters\n",
      "HOW time    : 345570 (sec of GPS week 1825)   fitDuration:  4 hours\n",
      "TransmitTime: 1825( 801)  345570   Wed-3   365   86370   12/31/2014   23:59:30 GPS\n",
      "Accuracy    : flag(URA): 2 => 4.85 meters\n",
      "IODC: 26   IODE: 26   health: 0 (0=good)   codeflags: 0   L2Pdata: 0\n",
      "\n"
     ]
    }
   ],
   "source": [
    "eph = navData.next().toGPSEphemeris()\n",
    "print eph"
   ]
  },
  {
   "cell_type": "markdown",
   "metadata": {},
   "source": [
    "## Build ephemeris store to later compute satellite positions"
   ]
  },
  {
   "cell_type": "code",
   "execution_count": 12,
   "metadata": {
    "collapsed": true
   },
   "outputs": [],
   "source": [
    "obsHeader, obsData = gpstk.readRinex3Obs(obsfile)\n",
    "navHeader, navData = gpstk.readRinex3Nav(navfile)\n",
    "# setup ephemeris store to look for satellite positions\n",
    "bcestore = gpstk.GPSEphemerisStore()\n",
    "for navDataObj in navData:\n",
    "    ephem = navDataObj.toGPSEphemeris()\n",
    "    bcestore.addEphemeris(ephem)\n",
    "bcestore.SearchNear()\n",
    "navData.close()\n"
   ]
  },
  {
   "cell_type": "markdown",
   "metadata": {},
   "source": [
    "## Count number of observations in RINEX file and time span"
   ]
  },
  {
   "cell_type": "code",
   "execution_count": 13,
   "metadata": {
    "collapsed": false
   },
   "outputs": [
    {
     "name": "stdout",
     "output_type": "stream",
     "text": [
      "first observation 01/01/2015 00:00:00 GPS\n",
      "number of observations 2490\n",
      "last observation  01/01/2015 23:59:30 GPS\n"
     ]
    }
   ],
   "source": [
    "obsHeader, obsData = gpstk.readRinex3Obs(obsfile)\n",
    "c=1\n",
    "obsObject = obsData.next()\n",
    "print \"first observation\", gpstk.CivilTime(obsObject.time)\n",
    "for obsObject in obsData:\n",
    "    c+=1\n",
    "print \"number of observations\", c\n",
    "print \"last observation \", gpstk.CivilTime(obsObject.time)\n",
    "obsData.close()"
   ]
  },
  {
   "cell_type": "markdown",
   "metadata": {},
   "source": [
    "## Get observation types present in file"
   ]
  },
  {
   "cell_type": "code",
   "execution_count": 14,
   "metadata": {
    "collapsed": false
   },
   "outputs": [
    {
     "name": "stdout",
     "output_type": "stream",
     "text": [
      "['L1' 'L2' 'P1' 'P2' 'C1' 'S1' 'S2']\n",
      "P1_index = 2\n",
      "P2_index = 3\n",
      "L1_index = 0\n",
      "L2_index = 1\n"
     ]
    }
   ],
   "source": [
    "obs_types = np.array([i for i in obsHeader.R2ObsTypes])\n",
    "P1_idx = np.where(obs_types==\"P1\")[0][0]\n",
    "P2_idx = np.where(obs_types==\"P2\")[0][0]\n",
    "L1_idx = np.where(obs_types==\"L1\")[0][0]\n",
    "L2_idx = np.where(obs_types==\"L2\")[0][0]\n",
    "print obs_types\n",
    "print \"P1_index =\", P1_idx\n",
    "print \"P2_index =\", P2_idx\n",
    "print \"L1_index =\", L1_idx\n",
    "print \"L2_index =\", L2_idx\n"
   ]
  },
  {
   "cell_type": "markdown",
   "metadata": {},
   "source": [
    "## Get receiver position"
   ]
  },
  {
   "cell_type": "code",
   "execution_count": 15,
   "metadata": {
    "collapsed": false
   },
   "outputs": [
    {
     "name": "stdout",
     "output_type": "stream",
     "text": [
      "receiver position X=1744399.039700, Y=-6116037.557700, Z=512731.753200\n"
     ]
    }
   ],
   "source": [
    "rec_pos = np.array([obsHeader.antennaPosition[0], obsHeader.antennaPosition[1], obsHeader.antennaPosition[2]])\n",
    "print \"receiver position X=%f, Y=%f, Z=%f\"%(rec_pos[0], rec_pos[1], rec_pos[2])"
   ]
  },
  {
   "cell_type": "markdown",
   "metadata": {},
   "source": [
    "## Obtain first observation record"
   ]
  },
  {
   "cell_type": "code",
   "execution_count": 16,
   "metadata": {
    "collapsed": true
   },
   "outputs": [],
   "source": [
    "obsHeader, obsData = gpstk.readRinex3Obs(obsfile)\n",
    "obsObject = obsData.next()"
   ]
  },
  {
   "cell_type": "markdown",
   "metadata": {},
   "source": [
    "## Get observables from first observation record"
   ]
  },
  {
   "cell_type": "code",
   "execution_count": 17,
   "metadata": {
    "collapsed": false,
    "scrolled": true
   },
   "outputs": [
    {
     "name": "stdout",
     "output_type": "stream",
     "text": [
      "Time of observation 2457024 00000000 0.000000000000000 GPS\n",
      "SatID GPS  GLON  P1           P2            L1           L2\n",
      "   4  True False 24540601.189 24540612.674 -1474196.677 -1141581.992\n",
      "   8  True False 23211940.108 23211948.388 -4577672.029 -3558893.967\n",
      "  14  True False 22032821.830 22032830.264 -10471548.989 -8114971.630\n",
      "  16  True False 21103280.325 21103287.714 -18225312.243 -14128267.112\n",
      "  18  True False 23607290.903 23607302.022 -5746582.280 -4354531.061\n",
      "  22  True False 20977722.622 20977729.809 -18857743.886 -14640970.082\n",
      "  27  True False 23961100.896 23961117.472 -2488474.163 -1890354.398\n",
      "  31  True False 22862051.244 22862056.236 -7299012.845 -5627961.857\n",
      "  32  True False 22317814.890 22317822.660 -12092944.739 -9374770.811\n"
     ]
    }
   ],
   "source": [
    "print \"Time of observation\", obsObject.time\n",
    "print \"SatID GPS  GLON  P1           P2            L1           L2\"\n",
    "for satID, datumList in obsObject.obs.iteritems():\n",
    "    P1 = obsObject.getObs(satID, P1_idx).data\n",
    "    P2 = obsObject.getObs(satID, P2_idx).data\n",
    "    L1 = obsObject.getObs(satID, L1_idx).data\n",
    "    L2 = obsObject.getObs(satID, L2_idx).data\n",
    "\n",
    "    isGPS     = True if satID.system==satID.systemGPS else False\n",
    "    isGlonass = True if satID.system==satID.systemGlonass else False\n",
    "\n",
    "    print \"  %2d %5s %5s %10.3f %10.3f %10.3f %10.3f\"%(satID.id, isGPS, isGlonass, P1, P2, L1, L2)"
   ]
  },
  {
   "cell_type": "code",
   "execution_count": 18,
   "metadata": {
    "collapsed": false
   },
   "outputs": [
    {
     "name": "stdout",
     "output_type": "stream",
     "text": [
      "gps week           1825\n",
      "second within week 345600.0\n",
      "civilian time 01/01/2015 00:00:00 GPS\n"
     ]
    }
   ],
   "source": [
    "gpsTime = gpstk.GPSWeekSecond(obsObject.time)\n",
    "print \"gps week          \", gpsTime.getWeek()\n",
    "print \"second within week\", gpsTime.getSOW()\n",
    "print \"civilian time\", gpstk.CivilTime(obsObject.time)"
   ]
  },
  {
   "cell_type": "markdown",
   "metadata": {},
   "source": [
    "## Obtain first satellite in first observation, get its XYZ (ECEF) position and clock data"
   ]
  },
  {
   "cell_type": "code",
   "execution_count": 19,
   "metadata": {
    "collapsed": false
   },
   "outputs": [
    {
     "name": "stdout",
     "output_type": "stream",
     "text": [
      "Satellite (PRN) 4\n",
      "XYZ = (-18428919.403041467, -18448607.658851944, -6053156.958803085)\n",
      "Clock bias -5.00584428664e-06\n",
      "Clock drift -4.54747350886e-13\n",
      "Relativistic correction -1.75467849262e-08\n"
     ]
    }
   ],
   "source": [
    "satID, datumList = obsObject.obs.iteritems().next()\n",
    "print \"Satellite (PRN)\", satID.id\n",
    "eph   = bcestore.findEphemeris(satID, obsObject.time)\n",
    "svXvt = eph.svXvt(obsObject.time)\n",
    "print \"XYZ =\", svXvt.getPos()\n",
    "print \"Clock bias\", svXvt.getClockBias()\n",
    "print \"Clock drift\", svXvt.getClockDrift()\n",
    "print \"Relativistic correction\", svXvt.getRelativityCorr()"
   ]
  },
  {
   "cell_type": "markdown",
   "metadata": {},
   "source": [
    "## Obtain satellite elevation and azimuth with respect to receiver position"
   ]
  },
  {
   "cell_type": "code",
   "execution_count": 20,
   "metadata": {
    "collapsed": false
   },
   "outputs": [
    {
     "name": "stdout",
     "output_type": "stream",
     "text": [
      "elev 13.62\n",
      "azim 252.80\n"
     ]
    }
   ],
   "source": [
    "elev    = obsHeader.antennaPosition.elvAngle(svXvt.getPos())\n",
    "azim    = obsHeader.antennaPosition.azAngle(svXvt.getPos())\n",
    "print \"elev %2.2f\"%elev\n",
    "print \"azim %2.2f\"%azim\n"
   ]
  },
  {
   "cell_type": "markdown",
   "metadata": {},
   "source": [
    "## Compute satellite position with all available satellites using GPSTK RAIMSolver "
   ]
  },
  {
   "cell_type": "code",
   "execution_count": 21,
   "metadata": {
    "collapsed": false
   },
   "outputs": [
    {
     "name": "stdout",
     "output_type": "stream",
     "text": [
      "[ 1744404.18956686 -6116050.65421739   512738.96412878]\n"
     ]
    }
   ],
   "source": [
    "prnList = []\n",
    "rangeList = []    \n",
    "noTropModel = gpstk.ZeroTropModel()\n",
    "\n",
    "time = obsObject.time\n",
    "\n",
    "# arrange P1 observations and satellites observed in a list\n",
    "sats_used = 0\n",
    "for satID, datumList in obsObject.obs.iteritems():\n",
    "    P1 = obsObject.getObs(satID, P1_idx).data\n",
    "    prnList.append(satID)\n",
    "    rangeList.append(P1)\n",
    "    sats_used += 1\n",
    "\n",
    "raimSolver = gpstk.PRSolution2()\n",
    "\n",
    "# this is just to adjust data types from underlying C implementation\n",
    "satVector = gpstk.seqToVector(prnList, outtype='vector_SatID')\n",
    "rangeVector = gpstk.seqToVector(rangeList)\n",
    "\n",
    "# compute position\n",
    "raimSolver.RAIMCompute(time, satVector, rangeVector, bcestore, noTropModel)   \n",
    "computed_pos = np.array([raimSolver.Solution[0], raimSolver.Solution[1], raimSolver.Solution[2]])\n",
    "\n",
    "print computed_pos"
   ]
  },
  {
   "cell_type": "markdown",
   "metadata": {},
   "source": [
    "## Compute position error with respect to known receiver position"
   ]
  },
  {
   "cell_type": "code",
   "execution_count": 23,
   "metadata": {
    "collapsed": false,
    "scrolled": false
   },
   "outputs": [
    {
     "name": "stdout",
     "output_type": "stream",
     "text": [
      "posición calculada    [ 1744404.18956686 -6116050.65421739   512738.96412878]\n",
      "posición del receptor [ 1744399.0397 -6116037.5577   512731.7532]\n",
      "error en la posición  15.8125706458 15.8125706458\n"
     ]
    }
   ],
   "source": [
    "print \"posición calculada   \", computed_pos\n",
    "print \"posición del receptor\", rec_pos\n",
    "print \"error en la posición \", np.sqrt(np.sum((computed_pos-rec_pos)**2)), np.linalg.norm(computed_pos-rec_pos)"
   ]
  },
  {
   "cell_type": "code",
   "execution_count": null,
   "metadata": {
    "collapsed": true
   },
   "outputs": [],
   "source": []
  }
 ],
 "metadata": {
  "kernelspec": {
   "display_name": "Python 2",
   "language": "python",
   "name": "python2"
  },
  "language_info": {
   "codemirror_mode": {
    "name": "ipython",
    "version": 2
   },
   "file_extension": ".py",
   "mimetype": "text/x-python",
   "name": "python",
   "nbconvert_exporter": "python",
   "pygments_lexer": "ipython2",
   "version": "2.7.10"
  }
 },
 "nbformat": 4,
 "nbformat_minor": 0
}
