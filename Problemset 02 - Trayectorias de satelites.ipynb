{
 "cells": [
  {
   "cell_type": "code",
   "execution_count": 1,
   "metadata": {
    "collapsed": true
   },
   "outputs": [],
   "source": [
    "import numpy as np\n",
    "import gpstk\n",
    "import matplotlib.pyplot as plt\n",
    "from IPython.display import display, HTML \n",
    "%matplotlib inline"
   ]
  },
  {
   "cell_type": "code",
   "execution_count": 2,
   "metadata": {
    "collapsed": true
   },
   "outputs": [],
   "source": [
    "navfile = \"data/bogt0010.15n\"\n",
    "obsfile = \"data/bogt0010.15o\"\n",
    "\n",
    "bogtnavfile = \"data/bogt0010.15n\"\n",
    "bogtobsfile = \"data/bogt0010.15o\"\n",
    "\n",
    "madrnavfile = \"data/madr0010.15n\"\n",
    "madrobsfile = \"data/madr0010.15o\"\n",
    "\n",
    "alrtnavfile = \"data/alrt0010.15n\"\n",
    "alrtobsfile = \"data/alrt0010.15o\""
   ]
  },
  {
   "cell_type": "markdown",
   "metadata": {},
   "source": [
    "## <font style=\"color:red\"> Ejercicio 1: Pinta la elevación de los satélites 3,4,8,12,16 en función del _second of the week_ para la estación BOGT el 1/1/2015\n"
   ]
  },
  {
   "cell_type": "code",
   "execution_count": null,
   "metadata": {
    "collapsed": false
   },
   "outputs": [],
   "source": []
  },
  {
   "cell_type": "markdown",
   "metadata": {},
   "source": [
    "## <font style=\"color:red\"> Ejercicio 2: Pinta el skyplot de los satélites en vista en la primera observación de la estación BOGT el 1/1/2015\n",
    "\n",
    "Dada una elevación $e$ y un azimut $a$ de la posición de un satélite (expresados en grados) según se observa desde un punto fijo en la tierra, las posiciones $sx$ y $sy$ de ese punto en un skyplot serían:\n",
    "\n",
    "$sx = \\frac{90-e}{90}\\sin \\Big( a \\frac{\\pi}{180} \\Big)$\n",
    "\n",
    "$sy = \\frac{90-e}{90}\\cos \\Big( a \\frac{\\pi}{180} \\Big)$\n"
   ]
  },
  {
   "cell_type": "code",
   "execution_count": null,
   "metadata": {
    "collapsed": false
   },
   "outputs": [],
   "source": []
  },
  {
   "cell_type": "markdown",
   "metadata": {},
   "source": [
    "## <font style=\"color:red\"> Ejercicio 3: Grafica en el skyplot la trayectoria de todos los satélites en todas las observaciones para la estación BOGT el 1/1/2015\n",
    "\n",
    "- Pinta en azul la trayectoria del PRN 3"
   ]
  },
  {
   "cell_type": "code",
   "execution_count": null,
   "metadata": {
    "collapsed": false
   },
   "outputs": [],
   "source": []
  },
  {
   "cell_type": "markdown",
   "metadata": {},
   "source": [
    "## <font style=\"color:red\"> Ejercicio 4: Obtén para cada observación el número de satélites cuya elevación es mayor de 40 grados y grafica el resultado para la estación BOGT el 1/1/2015"
   ]
  },
  {
   "cell_type": "code",
   "execution_count": null,
   "metadata": {
    "collapsed": false
   },
   "outputs": [],
   "source": []
  },
  {
   "cell_type": "markdown",
   "metadata": {},
   "source": [
    "## <font style=\"color:red\"> Ejercicio 5: Para cada elevación mínima en [10,20,30,40,50,60,70] obtén el porcentaje de observaciones que tienen al menos 4 satélites por encima de cada elevación mínima para la estación BOGT el 1/1/2015"
   ]
  },
  {
   "cell_type": "code",
   "execution_count": null,
   "metadata": {
    "collapsed": false
   },
   "outputs": [],
   "source": []
  },
  {
   "cell_type": "markdown",
   "metadata": {},
   "source": [
    "## <font style=\"color:red\"> Ejercicio 6: Realiza los ejercicios 3, 4 y 5 para la estación MADR el 1/1/2015"
   ]
  },
  {
   "cell_type": "code",
   "execution_count": null,
   "metadata": {
    "collapsed": false
   },
   "outputs": [],
   "source": []
  },
  {
   "cell_type": "markdown",
   "metadata": {
    "collapsed": true
   },
   "source": [
    "## <font style=\"color:red\"> Ejercicio 7: Realiza los ejercicios 3, 4 y 5 para la estación ALRT el 1/1/2015"
   ]
  },
  {
   "cell_type": "code",
   "execution_count": null,
   "metadata": {
    "collapsed": false
   },
   "outputs": [],
   "source": []
  },
  {
   "cell_type": "markdown",
   "metadata": {},
   "source": [
    "## <font style=\"color:red\"> Ejercicio 8: Grafica la elevación del satélite respecto al ruido en la señal (carrier to noise) para la frecuencia L1 (observable **S1**) para la estación BOGT el 1/1/2015"
   ]
  },
  {
   "cell_type": "code",
   "execution_count": null,
   "metadata": {
    "collapsed": false
   },
   "outputs": [],
   "source": []
  },
  {
   "cell_type": "markdown",
   "metadata": {},
   "source": [
    "## <font style=\"color:red\"> Ejercicio 9: Realiza el ejercicio 8 para la estación MADR el 1/1/2015"
   ]
  },
  {
   "cell_type": "code",
   "execution_count": null,
   "metadata": {
    "collapsed": false
   },
   "outputs": [],
   "source": []
  },
  {
   "cell_type": "markdown",
   "metadata": {},
   "source": [
    "## <font style=\"color:red\"> Ejercicio 10: Realiza el ejercicio 8 para la estación ALRT el 1/1/2015"
   ]
  },
  {
   "cell_type": "code",
   "execution_count": null,
   "metadata": {
    "collapsed": false
   },
   "outputs": [],
   "source": []
  },
  {
   "cell_type": "code",
   "execution_count": null,
   "metadata": {
    "collapsed": true
   },
   "outputs": [],
   "source": []
  }
 ],
 "metadata": {
  "kernelspec": {
   "display_name": "Python 2",
   "language": "python",
   "name": "python2"
  },
  "language_info": {
   "codemirror_mode": {
    "name": "ipython",
    "version": 2
   },
   "file_extension": ".py",
   "mimetype": "text/x-python",
   "name": "python",
   "nbconvert_exporter": "python",
   "pygments_lexer": "ipython2",
   "version": "2.7.10"
  }
 },
 "nbformat": 4,
 "nbformat_minor": 0
}
