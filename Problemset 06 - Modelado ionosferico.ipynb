{
 "cells": [
  {
   "cell_type": "code",
   "execution_count": 5,
   "metadata": {
    "collapsed": false
   },
   "outputs": [],
   "source": [
    "import numpy as np\n",
    "import matplotlib.pyplot as plt\n",
    "%matplotlib inline\n",
    "bogtnavfile = \"data/bogt0010.15n\"\n",
    "bogtobsfile = \"data/bogt0010.15o\"\n",
    "\n",
    "leijnavfile = \"data/leij0010.15n\"\n",
    "leijobsfile = \"data/leij0010.15o\"\n",
    "\n",
    "alrtnavfile = \"data/alrt0010.15n\"\n",
    "alrtobsfile = \"data/alrt0010.15o\"\n",
    "\n",
    "madrnavfile = \"data/madr0010.15n\"\n",
    "madrobsfile = \"data/madr0010.15o\"\n",
    "\n",
    "lhaznavfile = \"data/lhaz0010.15n\"\n",
    "lhazobsfile = \"data/lhaz0010.15o\""
   ]
  },
  {
   "cell_type": "markdown",
   "metadata": {},
   "source": [
    "## <font style=\"color:red\"> Ejercicio 1: Implementa el modelo de Klobuchar según la descripción [aquí](http://www.navipedia.net/index.php/Klobuchar_Ionospheric_Model).\n",
    "\n",
    "Recuerda que el modelo te da el tiempo del retraso ionosférico en segundos, multiplícalo por la velocidad de la luz (299792458 Km/h) para tenerlo en metros y poder aplicarlo directamente sobre el observable de pseudorando.\n",
    "\n",
    "Para comprobarlo, usa los Alphas y Betas que viene en el fichero de navegación de la estación LEIJ 1/1/2015 con el siguiente código (no todas las estaciones incluyen siempre estos parámetros en los ficheros publicados):\n",
    "\n",
    "            nh=gpstk.readRinexNav(\"data/leij0010.15n\")[0]\n",
    "            alphas = nh.ionAlpha\n",
    "            betas  = nh.ionBeta\n",
    "\n",
    "y grafica los retrasos ionosféricos medidos por doble frecuencia y los predichos por Klobuchar\n",
    "\n",
    "- para todas las observaciones\n",
    "- para los satélites 3,11,19 y 21"
   ]
  },
  {
   "cell_type": "code",
   "execution_count": null,
   "metadata": {
    "collapsed": false
   },
   "outputs": [],
   "source": []
  },
  {
   "cell_type": "markdown",
   "metadata": {},
   "source": [
    "## <font style=\"color:red\"> Ejercicio 2: Realiza el ejercicio 1 para las estaciones BOGT y ALRT para el 1/1/2015\n"
   ]
  },
  {
   "cell_type": "code",
   "execution_count": null,
   "metadata": {
    "collapsed": false
   },
   "outputs": [],
   "source": []
  },
  {
   "cell_type": "markdown",
   "metadata": {},
   "source": [
    "## <font style=\"color:red\"> Ejercicio 3: Calcula el error medio en el posicionamiento y la desviación estandar para la estación LEIJ 1/1/15\n",
    "\n",
    "- Con una frecuencia\n",
    "- Con doble frecuancia\n",
    "- Con una frecuencia aplicando el modelo de Klobuchar, usando los $\\alpha$'s y $\\beta$'s incluidos en el propio fichero de navegación de la misma estación\n",
    "    "
   ]
  },
  {
   "cell_type": "code",
   "execution_count": null,
   "metadata": {
    "collapsed": false
   },
   "outputs": [],
   "source": []
  },
  {
   "cell_type": "markdown",
   "metadata": {},
   "source": [
    "## <font style=\"color:red\"> Ejercicio 4: Realiza el ejercicio 3 con las estaciones BOGT, MADR, ALRT y LHAZ, siempre usando los $\\alpha$'s y $\\beta$'s del fichero de navegación de la estación LEIJ"
   ]
  },
  {
   "cell_type": "markdown",
   "metadata": {},
   "source": [
    "### Estación BOGT"
   ]
  },
  {
   "cell_type": "code",
   "execution_count": null,
   "metadata": {
    "collapsed": false
   },
   "outputs": [],
   "source": []
  },
  {
   "cell_type": "markdown",
   "metadata": {},
   "source": [
    "### Estación MADR"
   ]
  },
  {
   "cell_type": "code",
   "execution_count": null,
   "metadata": {
    "collapsed": false
   },
   "outputs": [],
   "source": []
  },
  {
   "cell_type": "markdown",
   "metadata": {},
   "source": [
    "### Estación ALRT"
   ]
  },
  {
   "cell_type": "code",
   "execution_count": null,
   "metadata": {
    "collapsed": false
   },
   "outputs": [],
   "source": []
  },
  {
   "cell_type": "markdown",
   "metadata": {},
   "source": [
    "### Estación LHAZ"
   ]
  },
  {
   "cell_type": "code",
   "execution_count": null,
   "metadata": {
    "collapsed": false
   },
   "outputs": [],
   "source": []
  }
 ],
 "metadata": {
  "kernelspec": {
   "display_name": "Python 2",
   "language": "python",
   "name": "python2"
  },
  "language_info": {
   "codemirror_mode": {
    "name": "ipython",
    "version": 2
   },
   "file_extension": ".py",
   "mimetype": "text/x-python",
   "name": "python",
   "nbconvert_exporter": "python",
   "pygments_lexer": "ipython2",
   "version": "2.7.10"
  }
 },
 "nbformat": 4,
 "nbformat_minor": 0
}
